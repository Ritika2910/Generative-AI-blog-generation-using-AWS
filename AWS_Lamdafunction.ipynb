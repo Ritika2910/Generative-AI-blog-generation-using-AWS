{
  "nbformat": 4,
  "nbformat_minor": 0,
  "metadata": {
    "colab": {
      "provenance": []
    },
    "kernelspec": {
      "name": "python3",
      "display_name": "Python 3"
    },
    "language_info": {
      "name": "python"
    }
  },
  "cells": [
    {
      "cell_type": "code",
      "execution_count": 1,
      "metadata": {
        "colab": {
          "base_uri": "https://localhost:8080/",
          "height": 398
        },
        "id": "VMzlA4cineSX",
        "outputId": "74e93793-8adb-45d0-ec5c-3820cf4165ab"
      },
      "outputs": [
        {
          "output_type": "error",
          "ename": "ModuleNotFoundError",
          "evalue": "No module named 'boto3'",
          "traceback": [
            "\u001b[0;31m---------------------------------------------------------------------------\u001b[0m",
            "\u001b[0;31mModuleNotFoundError\u001b[0m                       Traceback (most recent call last)",
            "\u001b[0;32m<ipython-input-1-33f2ba34e8a8>\u001b[0m in \u001b[0;36m<cell line: 0>\u001b[0;34m()\u001b[0m\n\u001b[1;32m      1\u001b[0m \u001b[0;32mimport\u001b[0m \u001b[0mjson\u001b[0m\u001b[0;34m\u001b[0m\u001b[0;34m\u001b[0m\u001b[0m\n\u001b[0;32m----> 2\u001b[0;31m \u001b[0;32mimport\u001b[0m \u001b[0mboto3\u001b[0m\u001b[0;34m\u001b[0m\u001b[0;34m\u001b[0m\u001b[0m\n\u001b[0m\u001b[1;32m      3\u001b[0m \u001b[0;32mfrom\u001b[0m \u001b[0mbotocore\u001b[0m\u001b[0;34m.\u001b[0m\u001b[0mconfig\u001b[0m \u001b[0;32mimport\u001b[0m \u001b[0mConfig\u001b[0m\u001b[0;34m\u001b[0m\u001b[0;34m\u001b[0m\u001b[0m\n\u001b[1;32m      4\u001b[0m \u001b[0;32mfrom\u001b[0m \u001b[0mdatetime\u001b[0m \u001b[0;32mimport\u001b[0m \u001b[0mdatetime\u001b[0m\u001b[0;34m\u001b[0m\u001b[0;34m\u001b[0m\u001b[0m\n\u001b[1;32m      5\u001b[0m \u001b[0;34m\u001b[0m\u001b[0m\n",
            "\u001b[0;31mModuleNotFoundError\u001b[0m: No module named 'boto3'",
            "",
            "\u001b[0;31m---------------------------------------------------------------------------\u001b[0;32m\nNOTE: If your import is failing due to a missing package, you can\nmanually install dependencies using either !pip or !apt.\n\nTo view examples of installing some common dependencies, click the\n\"Open Examples\" button below.\n\u001b[0;31m---------------------------------------------------------------------------\u001b[0m\n"
          ],
          "errorDetails": {
            "actions": [
              {
                "action": "open_url",
                "actionText": "Open Examples",
                "url": "/notebooks/snippets/importing_libraries.ipynb"
              }
            ]
          }
        }
      ],
      "source": [
        "import json\n",
        "import boto3\n",
        "from botocore.config import Config\n",
        "from datetime import datetime\n",
        "\n",
        "def blog_generate_using_bedrock(blog_topic: str) -> str:\n",
        "    \"\"\"Generates a blog using Amazon Bedrock (Llama 3 70B Instruct).\"\"\"\n",
        "    try:\n",
        "        # Construct the prompt for Llama 3 70B.  This model uses a simpler prompt format.\n",
        "        prompt = f\"Write a 200-word blog on the topic: {blog_topic}\"\n",
        "\n",
        "        body = {\n",
        "            \"prompt\": prompt,  # Use the 'prompt' key\n",
        "            \"max_gen_len\": 512,\n",
        "            \"temperature\": 0.5,\n",
        "            \"top_p\": 0.9,\n",
        "        }\n",
        "\n",
        "        bedrock = boto3.client(\n",
        "            service_name='bedrock-runtime',\n",
        "            region_name=\"us-east-1\",  # Ensure this is your correct region\n",
        "            config=Config(\n",
        "                read_timeout=300,\n",
        "                retries={'max_attempts': 3}\n",
        "            )\n",
        "        )\n",
        "\n",
        "        response = bedrock.invoke_model(\n",
        "            body=json.dumps(body),\n",
        "            modelId=\"meta.llama3-8b-instruct-v1:0\",  # Corrected Model ID (70B)\n",
        "            contentType=\"application/json\",\n",
        "            accept=\"application/json\"\n",
        "        )\n",
        "\n",
        "        response_content = response.get('body').read()\n",
        "        response_data = json.loads(response_content)\n",
        "        # print(response_data) # kept for debugging.\n",
        "\n",
        "        # Extract the generated text (adjust based on Llama 3 70B's response format)\n",
        "        blog_details = response_data['generation']\n",
        "        return blog_details\n",
        "\n",
        "    except Exception as e:\n",
        "        print(f\"Error generating the blog: {e}\")\n",
        "        return \"\"\n",
        "\n",
        "def save_blog_details_s3(s3_key, s3_bucket, generated_blog):\n",
        "    \"\"\"Saves the generated blog to an S3 bucket.\"\"\"\n",
        "    s3 = boto3.client('s3')  # Initialize S3 client\n",
        "\n",
        "    try:\n",
        "        s3.put_object(Bucket=s3_bucket, Key=s3_key, Body=generated_blog)\n",
        "        print(\"Code saved to s3\")\n",
        "\n",
        "    except Exception as e:\n",
        "        print(\"Error when saving the code to s3\")\n",
        "\n",
        "def lambda_handler(event, context):\n",
        "    \"\"\"Lambda function handler.\"\"\"\n",
        "\n",
        "    body = json.loads(event['body']) # Get body from the event object\n",
        "    blog_topic = body['blog_topic']   # Extract blog topic\n",
        "\n",
        "    generated_blog = blog_generate_using_bedrock(blog_topic)\n",
        "\n",
        "    if generated_blog:\n",
        "        current_time = datetime.now().strftime('%H%M%S')\n",
        "        s3_key = f\"blog-output/{current_time}.txt\"  #corrected\n",
        "        s3_bucket_name = \"aws-bedrock-course-one\"  # Replace with your bucket name\n",
        "\n",
        "        save_blog_details_s3(s3_key, s3_bucket_name, generated_blog)\n",
        "\n",
        "    else:\n",
        "        print(\"No blog was generated\")\n",
        "\n",
        "    return {\n",
        "        'statusCode': 200,\n",
        "        'body': json.dumps('Blog generation is completed')\n",
        "    }"
      ]
    }
  ]
}